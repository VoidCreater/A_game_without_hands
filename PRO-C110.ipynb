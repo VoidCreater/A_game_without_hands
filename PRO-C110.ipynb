{
  "nbformat": 4,
  "nbformat_minor": 0,
  "metadata": {
    "colab": {
      "provenance": [],
      "authorship_tag": "ABX9TyNopx5Y6rzr+trhfiOUgMcO",
      "include_colab_link": true
    },
    "kernelspec": {
      "name": "python3",
      "display_name": "Python 3"
    },
    "language_info": {
      "name": "python"
    }
  },
  "cells": [
    {
      "cell_type": "markdown",
      "metadata": {
        "id": "view-in-github",
        "colab_type": "text"
      },
      "source": [
        "<a href=\"https://colab.research.google.com/github/VoidCreater/A_game_without_hands/blob/main/PRO-C110.ipynb\" target=\"_parent\"><img src=\"https://colab.research.google.com/assets/colab-badge.svg\" alt=\"Open In Colab\"/></a>"
      ]
    },
    {
      "cell_type": "code",
      "execution_count": 4,
      "metadata": {
        "colab": {
          "base_uri": "https://localhost:8080/"
        },
        "id": "xDoMITpnH2Rq",
        "outputId": "1648dd80-7381-4a20-a221-b6d9d317fb5c"
      },
      "outputs": [
        {
          "output_type": "stream",
          "name": "stdout",
          "text": [
            "[-----]\n",
            "[0   0]\n",
            "[0   0]\n",
            "[0   0]\n",
            "[-----]\n",
            "Press y to Roll Again, n to Exit n\n",
            "\n",
            "\n"
          ]
        }
      ],
      "source": [
        "# Roll-a-dice\n",
        "\n",
        "import random\n",
        "response = \"y\"\n",
        "while(response == \"y\"):\n",
        "  num = random.randint(1, 6)\n",
        "\n",
        "  if(num == 1):\n",
        "    print(\"[-----]\")\n",
        "    print(\"[     ]\")\n",
        "    print(\"[  0  ]\")\n",
        "    print(\"[     ]\")\n",
        "    print(\"[-----]\")\n",
        "  if(num == 2):\n",
        "    print(\"[-----]\")\n",
        "    print(\"[ 0   ]\")\n",
        "    print(\"[     ]\")\n",
        "    print(\"[   0 ]\")\n",
        "    print(\"[-----]\")\n",
        "  if(num == 3):\n",
        "    print(\"[-----]\")\n",
        "    print(\"[     ]\")\n",
        "    print(\"[ 000 ]\")\n",
        "    print(\"[     ]\")\n",
        "    print(\"[-----]\")\n",
        "  if(num == 4):\n",
        "    print(\"[-----]\")\n",
        "    print(\"[0   0]\")\n",
        "    print(\"[     ]\")\n",
        "    print(\"[0   0]\")\n",
        "    print(\"[-----]\")\n",
        "  if(num == 5):\n",
        "    print(\"[-----]\")\n",
        "    print(\"[0   0]\")\n",
        "    print(\"[  0  ]\")\n",
        "    print(\"[0   0]\")\n",
        "    print(\"[-----]\")\n",
        "  if(num == 6):\n",
        "    print(\"[-----]\")\n",
        "    print(\"[0   0]\")\n",
        "    print(\"[0   0]\")\n",
        "    print(\"[0   0]\")\n",
        "    print(\"[-----]\")\n",
        "  if(response == \"n\"):\n",
        "    break\n",
        "  response = input(\"Press y to Roll Again, n to Exit \")\n",
        "  print(\"\\n\")"
      ]
    }
  ]
}